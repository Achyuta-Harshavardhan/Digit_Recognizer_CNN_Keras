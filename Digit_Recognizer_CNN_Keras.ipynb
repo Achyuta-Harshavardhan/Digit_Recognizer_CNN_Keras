{
  "nbformat": 4,
  "nbformat_minor": 0,
  "metadata": {
    "colab": {
      "name": "Digit_Recognizer_CNN_Keras.ipynb",
      "provenance": [],
      "mount_file_id": "1-v5GWJTvZ_JSL8w5iM3Sy9K1omc68kWS",
      "authorship_tag": "ABX9TyOVOzaxJBMDiaymoqNBQCb3",
      "include_colab_link": true
    },
    "kernelspec": {
      "name": "python3",
      "display_name": "Python 3"
    },
    "accelerator": "GPU"
  },
  "cells": [
    {
      "cell_type": "markdown",
      "metadata": {
        "id": "view-in-github",
        "colab_type": "text"
      },
      "source": [
        "<a href=\"https://colab.research.google.com/github/Achyuta-Harshavardhan/Digit_recognizer_CNN_Keras/blob/main/Digit_Recognizer_CNN_Keras.ipynb\" target=\"_parent\"><img src=\"https://colab.research.google.com/assets/colab-badge.svg\" alt=\"Open In Colab\"/></a>"
      ]
    },
    {
      "cell_type": "code",
      "metadata": {
        "id": "y--J1kRay-Lj"
      },
      "source": [
        "import tensorflow as tf\n",
        "from tensorflow.keras.models import Sequential,Model\n",
        "from tensorflow.keras.layers import Dense,Conv2D,Flatten,MaxPool2D,Dropout\n",
        "from tensorflow.keras.utils import to_categorical\n",
        "from sklearn.model_selection import train_test_split\n",
        "import numpy as np\n",
        "import pandas as pd"
      ],
      "execution_count": 1,
      "outputs": []
    },
    {
      "cell_type": "code",
      "metadata": {
        "id": "fh4_E1tQz1bW"
      },
      "source": [
        "df_train = pd.read_csv('/content/drive/MyDrive/Deep Learning/Datasets/train.csv')\n",
        "df_test = pd.read_csv('/content/drive/MyDrive/Deep Learning/Datasets/test.csv')\n",
        "\n",
        "x_train = df_train.values[:,1:]\n",
        "y_train = df_train.values[:,0]\n",
        "\n",
        "y_train = to_categorical(y_train,10)"
      ],
      "execution_count": 2,
      "outputs": []
    },
    {
      "cell_type": "code",
      "metadata": {
        "id": "WJTvwcVtIM_h"
      },
      "source": [
        "x = []\n",
        "for i in x_train:\n",
        "  x.append(i/255)\n",
        "\n",
        "x = np.array(x).reshape(-1,28,28,1)"
      ],
      "execution_count": 3,
      "outputs": []
    },
    {
      "cell_type": "code",
      "metadata": {
        "id": "1zxjXHZ3_yEN"
      },
      "source": [
        "x_train, x_test, y_train, y_test = train_test_split(x, y_train, test_size=0.3)"
      ],
      "execution_count": 4,
      "outputs": []
    },
    {
      "cell_type": "code",
      "metadata": {
        "id": "xB7jTnWn16M6"
      },
      "source": [
        "model = Sequential()\n",
        "\n",
        "model.add(Conv2D(32,5,padding = 'Same', activation ='relu', input_shape = (28,28,1)))\n",
        "model.add(Conv2D(32,5,padding = 'Same', activation ='relu'))\n",
        "model.add(MaxPool2D(pool_size=(2,2)))\n",
        "model.add(Dropout(0.25))\n",
        "\n",
        "model.add(Conv2D(64,3,padding = 'Same', activation ='relu', input_shape = (28,28,1)))\n",
        "model.add(Conv2D(64,3,padding = 'Same', activation ='relu'))\n",
        "model.add(MaxPool2D(pool_size=(2,2), strides=(2,2)))\n",
        "model.add(Dropout(0.25))\n",
        "\n",
        "model.add(Flatten())\n",
        "model.add(Dense(256, activation = \"relu\"))\n",
        "model.add(Dropout(0.5))\n",
        "model.add(Dense(10, activation = \"softmax\"))"
      ],
      "execution_count": 5,
      "outputs": []
    },
    {
      "cell_type": "code",
      "metadata": {
        "id": "DT94MNA32odR"
      },
      "source": [
        "model.compile(loss = 'categorical_crossentropy',optimizer = 'adam', metrics = ['accuracy'])"
      ],
      "execution_count": 6,
      "outputs": []
    },
    {
      "cell_type": "code",
      "metadata": {
        "id": "DekFad8f3oqu",
        "colab": {
          "base_uri": "https://localhost:8080/"
        },
        "outputId": "5370b1a8-bc63-4826-d4ec-0e33952a9304"
      },
      "source": [
        "model.fit(x_train,y_train,batch_size=128,validation_data=(x_test,y_test))"
      ],
      "execution_count": 7,
      "outputs": [
        {
          "output_type": "stream",
          "text": [
            "230/230 [==============================] - 3s 12ms/step - loss: 0.3438 - accuracy: 0.8891 - val_loss: 0.0816 - val_accuracy: 0.9737\n"
          ],
          "name": "stdout"
        },
        {
          "output_type": "execute_result",
          "data": {
            "text/plain": [
              "<tensorflow.python.keras.callbacks.History at 0x7faf9dcb86a0>"
            ]
          },
          "metadata": {
            "tags": []
          },
          "execution_count": 7
        }
      ]
    },
    {
      "cell_type": "code",
      "metadata": {
        "colab": {
          "base_uri": "https://localhost:8080/",
          "height": 282
        },
        "id": "NNd8LBT6KoOD",
        "outputId": "15dd54a5-9266-4816-a412-20b401b32d0b"
      },
      "source": [
        "import matplotlib.pyplot as plt\n",
        "\n",
        "plt.imshow(x_train[10][:,:,0])"
      ],
      "execution_count": 8,
      "outputs": [
        {
          "output_type": "execute_result",
          "data": {
            "text/plain": [
              "<matplotlib.image.AxesImage at 0x7faf420faeb8>"
            ]
          },
          "metadata": {
            "tags": []
          },
          "execution_count": 8
        },
        {
          "output_type": "display_data",
          "data": {
            "image/png": "[encoded data removed]",
            "text/plain": [
              "<Figure size 432x288 with 1 Axes>"
            ]
          },
          "metadata": {
            "tags": [],
            "needs_background": "light"
          }
        }
      ]
    },
    {
      "cell_type": "code",
      "metadata": {
        "colab": {
          "base_uri": "https://localhost:8080/"
        },
        "id": "8ZLpfHeJK52v",
        "outputId": "9026afe1-1b80-4013-e58b-f2a5543213bf"
      },
      "source": [
        "np.argmax(model.predict(np.expand_dims(x_train[10],0)))"
      ],
      "execution_count": 9,
      "outputs": [
        {
          "output_type": "execute_result",
          "data": {
            "text/plain": [
              "4"
            ]
          },
          "metadata": {
            "tags": []
          },
          "execution_count": 9
        }
      ]
    }
  ]
}